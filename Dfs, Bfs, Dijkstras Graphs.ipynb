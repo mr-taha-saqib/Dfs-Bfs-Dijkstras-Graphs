{
  "nbformat": 4,
  "nbformat_minor": 0,
  "metadata": {
    "colab": {
      "provenance": []
    },
    "kernelspec": {
      "name": "python3",
      "display_name": "Python 3"
    },
    "language_info": {
      "name": "python"
    }
  },
  "cells": [
    {
      "cell_type": "code",
      "source": [
        "import heapq  # Priority queue implement\n",
        "\n",
        "def dijkstra(graph, start):\n",
        "    dist = {vertex: float('inf') for vertex in graph}  # Initialize Dist with infinity\n",
        "    dist[start] = 0\n",
        "    prev_vertices = {vertex: None for vertex in graph}\n",
        "    priority_queue = [(0, start)] # Initialize Priority Queue\n",
        "\n",
        "    while priority_queue:\n",
        "        current_distance, current_vertex = heapq.heappop(priority_queue)  # Extract vertex with smallest distance\n",
        "\n",
        "        for neighbor, weight in graph[current_vertex].items():  # Explore neighbors of current vertex\n",
        "            distance = current_distance + weight\n",
        "            if distance < dist[neighbor]:\n",
        "                dist[neighbor], prev_vertices[neighbor] = distance, current_vertex  # Update dist and previous vertices\n",
        "                heapq.heappush(priority_queue, (distance, neighbor))\n",
        "\n",
        "    return dist, prev_vertices\n",
        "\n",
        "def reconstruct_path(prev_vertices, end):\n",
        "    path = []\n",
        "    while end is not None: # end vertex\n",
        "        path.insert(0, end)\n",
        "        end = prev_vertices[end]  # Move to previous vertex\n",
        "    return path"
      ],
      "metadata": {
        "id": "A4A-UlVpiVE3"
      },
      "execution_count": null,
      "outputs": []
    },
    {
      "cell_type": "code",
      "execution_count": null,
      "metadata": {
        "colab": {
          "base_uri": "https://localhost:8080/"
        },
        "id": "ge8hdtNWbZ9w",
        "outputId": "46288c18-a479-4080-8cc6-d1e905d05c06"
      },
      "outputs": [
        {
          "output_type": "stream",
          "name": "stdout",
          "text": [
            "Shortest path from A to A: ['A'], Distance: 0\n",
            "Shortest path from A to B: ['A', 'B'], Distance: 20\n",
            "Shortest path from A to C: ['A', 'B', 'F', 'C'], Distance: 31\n",
            "Shortest path from A to D: ['A', 'B', 'F', 'C', 'D'], Distance: 41\n",
            "Shortest path from A to E: ['E'], Distance: inf\n",
            "Shortest path from A to F: ['A', 'B', 'F'], Distance: 21\n",
            "Shortest path from A to G: ['A', 'B', 'F', 'C', 'D', 'G'], Distance: 61\n",
            "Shortest path from A to H: ['A', 'B', 'F', 'C', 'H'], Distance: 51\n"
          ]
        }
      ],
      "source": [
        "graph = {'A': {'B': 20, 'G': 90, 'D': 80},\n",
        "         'B': {'F': 1},\n",
        "         'C': {'H': 20, 'D': 10, 'F': 50},\n",
        "         'D': {'G': 20, 'C': 10},\n",
        "         'E': {'B': 50, 'G': 30},\n",
        "         'F': {'C': 10, 'D': 40},\n",
        "         'G': {'A': 20},\n",
        "         'H': {}}\n",
        "\n",
        "start_vertex = 'A'\n",
        "distances, prev_vertices = dijkstra(graph, start_vertex)\n",
        "for vertex in graph:  # Iterate all vertices\n",
        "    path = reconstruct_path(prev_vertices, vertex)  # Reconstruct path to current vertex\n",
        "    print(f\"Shortest path from {start_vertex} to {vertex}: {path}, Distance: {distances[vertex]}\")"
      ]
    }
  ]
}